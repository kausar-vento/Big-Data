{
  "nbformat": 4,
  "nbformat_minor": 0,
  "metadata": {
    "colab": {
      "provenance": [],
      "authorship_tag": "ABX9TyOd3N6u70YSTjoW0iC4Icd+",
      "include_colab_link": true
    },
    "kernelspec": {
      "name": "python3",
      "display_name": "Python 3"
    },
    "language_info": {
      "name": "python"
    }
  },
  "cells": [
    {
      "cell_type": "markdown",
      "metadata": {
        "id": "view-in-github",
        "colab_type": "text"
      },
      "source": [
        "<a href=\"https://colab.research.google.com/github/kausar-vento/Big-Data/blob/main/Tugas%207/code.ipynb\" target=\"_parent\"><img src=\"https://colab.research.google.com/assets/colab-badge.svg\" alt=\"Open In Colab\"/></a>"
      ]
    },
    {
      "cell_type": "code",
      "execution_count": 1,
      "metadata": {
        "colab": {
          "base_uri": "https://localhost:8080/"
        },
        "id": "ZkzdOHc3eZQX",
        "outputId": "35ea5e9c-b9a7-4cdb-eab0-9752c19ff4c9"
      },
      "outputs": [
        {
          "output_type": "stream",
          "name": "stdout",
          "text": [
            "Mounted at /content/drive\n"
          ]
        }
      ],
      "source": [
        "from google.colab import drive\n",
        "drive.mount('/content/drive')"
      ]
    },
    {
      "cell_type": "code",
      "source": [
        "!pip install pyspark"
      ],
      "metadata": {
        "colab": {
          "base_uri": "https://localhost:8080/"
        },
        "id": "2jUoUJSlelJi",
        "outputId": "149af601-9151-47da-ad54-3f03a331be3d"
      },
      "execution_count": 2,
      "outputs": [
        {
          "output_type": "stream",
          "name": "stdout",
          "text": [
            "Looking in indexes: https://pypi.org/simple, https://us-python.pkg.dev/colab-wheels/public/simple/\n",
            "Collecting pyspark\n",
            "  Downloading pyspark-3.4.0.tar.gz (310.8 MB)\n",
            "\u001b[2K     \u001b[90m━━━━━━━━━━━━━━━━━━━━━━━━━━━━━━━━━━━━━━━\u001b[0m \u001b[32m310.8/310.8 MB\u001b[0m \u001b[31m2.3 MB/s\u001b[0m eta \u001b[36m0:00:00\u001b[0m\n",
            "\u001b[?25h  Preparing metadata (setup.py) ... \u001b[?25l\u001b[?25hdone\n",
            "Requirement already satisfied: py4j==0.10.9.7 in /usr/local/lib/python3.10/dist-packages (from pyspark) (0.10.9.7)\n",
            "Building wheels for collected packages: pyspark\n",
            "  Building wheel for pyspark (setup.py) ... \u001b[?25l\u001b[?25hdone\n",
            "  Created wheel for pyspark: filename=pyspark-3.4.0-py2.py3-none-any.whl size=311317130 sha256=ea6467dd83a06c176cc6d61e2de76e9cc14bfbc9df2ad932a702c5e52b1dd877\n",
            "  Stored in directory: /root/.cache/pip/wheels/7b/1b/4b/3363a1d04368e7ff0d408e57ff57966fcdf00583774e761327\n",
            "Successfully built pyspark\n",
            "Installing collected packages: pyspark\n",
            "Successfully installed pyspark-3.4.0\n"
          ]
        }
      ]
    },
    {
      "cell_type": "markdown",
      "source": [
        "# Slide 30 Movie Lens Recomendation"
      ],
      "metadata": {
        "id": "c3Zc1NFMjKXk"
      }
    },
    {
      "cell_type": "code",
      "source": [
        "from pyspark.ml.recommendation import ALS\n",
        "from pyspark.sql import SparkSession\n",
        "from pyspark.sql.functions import col\n",
        "import math\n",
        "\n",
        "spark = SparkSession.builder.getOrCreate()\n",
        "sc = spark.sparkContext\n",
        "\n",
        "class Rating:\n",
        "    def __init__(self, userId, movieId, rating, timestamp):\n",
        "        self.userId = userId\n",
        "        self.movieId = movieId\n",
        "        self.rating = rating\n",
        "        self.timestamp = timestamp\n",
        "\n",
        "def parseRating(line):\n",
        "    fields = line.split(\"::\")\n",
        "    assert len(fields) == 4\n",
        "    return Rating(int(fields[0]), int(fields[1]), float(fields[2]), int(fields[3]))\n",
        "\n",
        "# Test it\n",
        "parseRating(\"1::1193::5::978300760\")\n",
        "\n",
        "raw = sc.textFile(\"/content/drive/MyDrive/Big Data/ml-1m/ratings.dat\")\n",
        "# check one record. it should be res4: Array[String] = Array(1::1193::5::978300760)\n",
        "# If this fails the location of the file is wrong.\n",
        "raw.take(1)\n",
        "\n",
        "ratings = raw.map(parseRating).toDF()\n",
        "# check if everything is ok\n",
        "ratings.show(5)\n",
        "\n",
        "training, test = ratings.randomSplit([0.8, 0.2])\n",
        "\n",
        "# Build the recommendation model using ALS on the training data\n",
        "# Alternating Least Squares (ALS) matrix factorization.\n",
        "als = ALS(maxIter=5, regParam=0.01, userCol=\"userId\", itemCol=\"movieId\", ratingCol=\"rating\")\n",
        "\n",
        "model = als.fit(training)\n",
        "model.save(\"mymodel\")\n",
        "\n",
        "# Prepare the recommendations\n",
        "predictions = model.transform(test)\n",
        "squared_diff = predictions.select((col(\"rating\").cast(\"float\") - col(\"prediction\").cast(\"float\")).alias(\"squared_diff\")).na.drop()\n",
        "squared_diff_squared = squared_diff.select((col(\"squared_diff\") ** 2).alias(\"squared_diff_squared\")).na.drop()\n",
        "mse = squared_diff_squared.agg({\"squared_diff_squared\": \"mean\"}).collect()[0][0]\n",
        "rmse = math.sqrt(mse)\n",
        "\n",
        "predictions.take(10)\n",
        "\n",
        "predictions.write.format(\"com.databricks.spark.csv\").save(\"ml-predictions.csv\")"
      ],
      "metadata": {
        "colab": {
          "base_uri": "https://localhost:8080/"
        },
        "id": "YTNSPaAie73q",
        "outputId": "86b992f2-d6f0-42d7-c1a6-bc3086defba8"
      },
      "execution_count": 3,
      "outputs": [
        {
          "output_type": "stream",
          "name": "stdout",
          "text": [
            "+-------+------+---------+------+\n",
            "|movieId|rating|timestamp|userId|\n",
            "+-------+------+---------+------+\n",
            "|   1193|   5.0|978300760|     1|\n",
            "|    661|   3.0|978302109|     1|\n",
            "|    914|   3.0|978301968|     1|\n",
            "|   3408|   4.0|978300275|     1|\n",
            "|   2355|   5.0|978824291|     1|\n",
            "+-------+------+---------+------+\n",
            "only showing top 5 rows\n",
            "\n"
          ]
        }
      ]
    },
    {
      "cell_type": "markdown",
      "source": [
        "# Slide 48 Movie Lens Reco (Ver 2.0)"
      ],
      "metadata": {
        "id": "MEB-TFIEjbDi"
      }
    },
    {
      "cell_type": "code",
      "source": [
        "from pyspark.ml.evaluation import RegressionEvaluator\n",
        "from pyspark.ml.recommendation import ALS\n",
        "from pyspark.sql import Row\n",
        "\n",
        "raw = spark.read.text(\"/content/drive/MyDrive/Big Data/ml-1m/ratings.dat\").rdd\n",
        "mydata = [(2, 0.01)]\n",
        "mydatardd = spark.sparkContext.parallelize(mydata).map(lambda x: (0, x[0], x[1]))\n",
        "\n",
        "def parseRating(row):\n",
        "  fields = row.value.split(\"::\")\n",
        "  return int(fields[0]), int(fields[1]), float(fields[2])\n",
        "\n",
        "ratings = raw.map(parseRating)\n",
        "ratings_df = spark.createDataFrame(ratings, [\"userId\", \"movieId\", \"rating\"])\n",
        "\n",
        "mydatadf = spark.createDataFrame(mydatardd, [\"userId\", \"movieId\", \"rating\"])\n",
        "\n",
        "combine_ratings = ratings_df.union(mydatadf)\n",
        "\n",
        "als = ALS(rank = 8, maxIter=5, regParam=1, userCol=\"userId\", itemCol=\"movieId\", ratingCol=\"rating\")\n",
        "model = als.fit(combine_ratings)\n",
        "\n",
        "products = model.recommendForUserSubset(spark.createDataFrame([(1,)], [\"userId\"]), 10)\n",
        "products.show(5)"
      ],
      "metadata": {
        "colab": {
          "base_uri": "https://localhost:8080/"
        },
        "id": "d_3ffPnIftnq",
        "outputId": "877fc017-6ebb-4a40-e388-e0abb4eb75ea"
      },
      "execution_count": 8,
      "outputs": [
        {
          "output_type": "stream",
          "name": "stdout",
          "text": [
            "+------+--------------------+\n",
            "|userId|     recommendations|\n",
            "+------+--------------------+\n",
            "|     1|[{3382, 4.4569645...|\n",
            "+------+--------------------+\n",
            "\n"
          ]
        }
      ]
    },
    {
      "cell_type": "code",
      "source": [],
      "metadata": {
        "id": "UpmLv050hosg"
      },
      "execution_count": null,
      "outputs": []
    }
  ]
}